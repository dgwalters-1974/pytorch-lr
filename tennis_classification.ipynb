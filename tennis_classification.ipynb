{
 "cells": [
  {
   "cell_type": "code",
   "execution_count": null,
   "metadata": {},
   "outputs": [],
   "source": [
    "# add a comment for the sake of it\n",
    "# and another"
   ]
  },
  {
   "cell_type": "code",
   "execution_count": 44,
   "metadata": {},
   "outputs": [],
   "source": [
    "import pandas as pd\n",
    "import numpy as np\n",
    "import torch\n",
    "\n",
    "from sklearn.preprocessing import StandardScaler  # for feature scaling\n",
    "from sklearn.model_selection import train_test_split  # for train/test split\n",
    "\n",
    "from scipy import stats\n"
   ]
  },
  {
   "cell_type": "code",
   "execution_count": 45,
   "metadata": {},
   "outputs": [
    {
     "data": {
      "text/html": [
       "<div>\n",
       "<style scoped>\n",
       "    .dataframe tbody tr th:only-of-type {\n",
       "        vertical-align: middle;\n",
       "    }\n",
       "\n",
       "    .dataframe tbody tr th {\n",
       "        vertical-align: top;\n",
       "    }\n",
       "\n",
       "    .dataframe thead th {\n",
       "        text-align: right;\n",
       "    }\n",
       "</style>\n",
       "<table border=\"1\" class=\"dataframe\">\n",
       "  <thead>\n",
       "    <tr style=\"text-align: right;\">\n",
       "      <th></th>\n",
       "      <th>Unnamed: 0</th>\n",
       "      <th>flag</th>\n",
       "      <th>rolling_rank_diff</th>\n",
       "      <th>rolling_rank points_diff</th>\n",
       "      <th>rolling_ace_per_svpt_diff</th>\n",
       "      <th>rolling_df_per_svpt_diff</th>\n",
       "      <th>rolling_1stIn_per_svpt_diff</th>\n",
       "      <th>rolling_1stWon_per_svpt_diff</th>\n",
       "      <th>rolling_2ndWon_per_svpt_diff</th>\n",
       "      <th>rolling_bpSaved_per_svpt_diff</th>\n",
       "      <th>rolling_bpFaced_per_svpt_diff</th>\n",
       "      <th>rolling_bpSaved_per_bpFaced_diff</th>\n",
       "      <th>Elo_diff</th>\n",
       "    </tr>\n",
       "  </thead>\n",
       "  <tbody>\n",
       "    <tr>\n",
       "      <th>0</th>\n",
       "      <td>0</td>\n",
       "      <td>0</td>\n",
       "      <td>-34.90000</td>\n",
       "      <td>760.50000</td>\n",
       "      <td>0.01423</td>\n",
       "      <td>0.01371</td>\n",
       "      <td>0.07728</td>\n",
       "      <td>0.08082</td>\n",
       "      <td>-0.05444</td>\n",
       "      <td>-0.02077</td>\n",
       "      <td>-0.01596</td>\n",
       "      <td>-0.27333</td>\n",
       "      <td>-57.200022</td>\n",
       "    </tr>\n",
       "    <tr>\n",
       "      <th>1</th>\n",
       "      <td>1</td>\n",
       "      <td>1</td>\n",
       "      <td>-20.41667</td>\n",
       "      <td>1321.25000</td>\n",
       "      <td>0.02177</td>\n",
       "      <td>-0.02151</td>\n",
       "      <td>0.05423</td>\n",
       "      <td>0.04467</td>\n",
       "      <td>-0.02390</td>\n",
       "      <td>0.00738</td>\n",
       "      <td>0.00139</td>\n",
       "      <td>0.14623</td>\n",
       "      <td>10.575487</td>\n",
       "    </tr>\n",
       "    <tr>\n",
       "      <th>2</th>\n",
       "      <td>2</td>\n",
       "      <td>0</td>\n",
       "      <td>-3.12821</td>\n",
       "      <td>425.25641</td>\n",
       "      <td>0.02513</td>\n",
       "      <td>-0.01549</td>\n",
       "      <td>0.00616</td>\n",
       "      <td>-0.00185</td>\n",
       "      <td>0.00823</td>\n",
       "      <td>0.00175</td>\n",
       "      <td>-0.00033</td>\n",
       "      <td>0.03552</td>\n",
       "      <td>-21.381048</td>\n",
       "    </tr>\n",
       "    <tr>\n",
       "      <th>3</th>\n",
       "      <td>3</td>\n",
       "      <td>1</td>\n",
       "      <td>-8.61538</td>\n",
       "      <td>53.00000</td>\n",
       "      <td>-0.00196</td>\n",
       "      <td>0.00438</td>\n",
       "      <td>0.01586</td>\n",
       "      <td>0.02335</td>\n",
       "      <td>-0.01013</td>\n",
       "      <td>-0.00763</td>\n",
       "      <td>-0.00764</td>\n",
       "      <td>-0.10385</td>\n",
       "      <td>9.736601</td>\n",
       "    </tr>\n",
       "    <tr>\n",
       "      <th>4</th>\n",
       "      <td>4</td>\n",
       "      <td>0</td>\n",
       "      <td>9.90909</td>\n",
       "      <td>84.81818</td>\n",
       "      <td>0.02491</td>\n",
       "      <td>-0.00310</td>\n",
       "      <td>-0.02679</td>\n",
       "      <td>-0.00749</td>\n",
       "      <td>0.02392</td>\n",
       "      <td>-0.00412</td>\n",
       "      <td>-0.00722</td>\n",
       "      <td>-0.02693</td>\n",
       "      <td>-29.959924</td>\n",
       "    </tr>\n",
       "  </tbody>\n",
       "</table>\n",
       "</div>"
      ],
      "text/plain": [
       "   Unnamed: 0  flag  rolling_rank_diff  rolling_rank points_diff  \\\n",
       "0           0     0          -34.90000                 760.50000   \n",
       "1           1     1          -20.41667                1321.25000   \n",
       "2           2     0           -3.12821                 425.25641   \n",
       "3           3     1           -8.61538                  53.00000   \n",
       "4           4     0            9.90909                  84.81818   \n",
       "\n",
       "   rolling_ace_per_svpt_diff  rolling_df_per_svpt_diff  \\\n",
       "0                    0.01423                   0.01371   \n",
       "1                    0.02177                  -0.02151   \n",
       "2                    0.02513                  -0.01549   \n",
       "3                   -0.00196                   0.00438   \n",
       "4                    0.02491                  -0.00310   \n",
       "\n",
       "   rolling_1stIn_per_svpt_diff  rolling_1stWon_per_svpt_diff  \\\n",
       "0                      0.07728                       0.08082   \n",
       "1                      0.05423                       0.04467   \n",
       "2                      0.00616                      -0.00185   \n",
       "3                      0.01586                       0.02335   \n",
       "4                     -0.02679                      -0.00749   \n",
       "\n",
       "   rolling_2ndWon_per_svpt_diff  rolling_bpSaved_per_svpt_diff  \\\n",
       "0                      -0.05444                       -0.02077   \n",
       "1                      -0.02390                        0.00738   \n",
       "2                       0.00823                        0.00175   \n",
       "3                      -0.01013                       -0.00763   \n",
       "4                       0.02392                       -0.00412   \n",
       "\n",
       "   rolling_bpFaced_per_svpt_diff  rolling_bpSaved_per_bpFaced_diff   Elo_diff  \n",
       "0                       -0.01596                          -0.27333 -57.200022  \n",
       "1                        0.00139                           0.14623  10.575487  \n",
       "2                       -0.00033                           0.03552 -21.381048  \n",
       "3                       -0.00764                          -0.10385   9.736601  \n",
       "4                       -0.00722                          -0.02693 -29.959924  "
      ]
     },
     "execution_count": 45,
     "metadata": {},
     "output_type": "execute_result"
    }
   ],
   "source": [
    "df = pd.read_csv('C:/Users/dgwal/jup_notebook/tennis.csv')\n",
    "df.head()"
   ]
  },
  {
   "cell_type": "code",
   "execution_count": 46,
   "metadata": {},
   "outputs": [],
   "source": [
    "#df.sort_values('rolling_1stIn_per_svpt_diff')\n",
    "#df.head(20)\n",
    "mask = ~df.isnull().any(axis=1)\n",
    "df = df[mask]\n",
    "\n",
    "# remove outliers (arbitrary z score of 7)\n",
    "df = df[(np.abs(stats.zscore(df)) < 7).all(axis=1)]\n",
    "\n"
   ]
  },
  {
   "cell_type": "code",
   "execution_count": 47,
   "metadata": {},
   "outputs": [
    {
     "name": "stdout",
     "output_type": "stream",
     "text": [
      "First 4 X features:\n",
      "[[-3.49000000e+01  7.60500000e+02  1.42300000e-02  1.37100000e-02\n",
      "   7.72800000e-02  8.08200000e-02 -5.44400000e-02 -2.07700000e-02\n",
      "  -1.59600000e-02 -2.73330000e-01 -5.72000221e+01]\n",
      " [-2.04166700e+01  1.32125000e+03  2.17700000e-02 -2.15100000e-02\n",
      "   5.42300000e-02  4.46700000e-02 -2.39000000e-02  7.38000000e-03\n",
      "   1.39000000e-03  1.46230000e-01  1.05754874e+01]\n",
      " [-3.12821000e+00  4.25256410e+02  2.51300000e-02 -1.54900000e-02\n",
      "   6.16000000e-03 -1.85000000e-03  8.23000000e-03  1.75000000e-03\n",
      "  -3.30000000e-04  3.55200000e-02 -2.13810476e+01]\n",
      " [-8.61538000e+00  5.30000000e+01 -1.96000000e-03  4.38000000e-03\n",
      "   1.58600000e-02  2.33500000e-02 -1.01300000e-02 -7.63000000e-03\n",
      "  -7.64000000e-03 -1.03850000e-01  9.73660055e+00]]\n",
      "\n",
      "First 4 y labels:\n",
      "[0 1 0 1]\n"
     ]
    }
   ],
   "source": [
    "X = df.iloc[:, 2:].to_numpy()\n",
    "y = df.iloc[:, 1].to_numpy()\n",
    "\n",
    "print(f\"First 4 X features:\\n{X[:4]}\")\n",
    "print(f\"\\nFirst 4 y labels:\\n{y[:4]}\")"
   ]
  },
  {
   "cell_type": "code",
   "execution_count": 48,
   "metadata": {},
   "outputs": [],
   "source": [
    "sc = StandardScaler()\n",
    "X = sc.fit_transform(X)\n",
    "#X_test = sc.transform(X_test)\n"
   ]
  },
  {
   "cell_type": "code",
   "execution_count": 49,
   "metadata": {},
   "outputs": [
    {
     "data": {
      "image/png": "[encoded data removed]",
      "text/plain": [
       "<Figure size 640x480 with 1 Axes>"
      ]
     },
     "metadata": {},
     "output_type": "display_data"
    }
   ],
   "source": [
    "import matplotlib.pyplot as plt\n",
    "plt.scatter(x=X[:, 4], \n",
    "            y=X[:, 5], \n",
    "            c=y, \n",
    "            cmap=plt.cm.RdYlBu);"
   ]
  },
  {
   "cell_type": "code",
   "execution_count": 50,
   "metadata": {},
   "outputs": [
    {
     "data": {
      "image/png": "[encoded data removed]",
      "text/plain": [
       "<Figure size 640x480 with 1 Axes>"
      ]
     },
     "metadata": {},
     "output_type": "display_data"
    }
   ],
   "source": [
    "plt.hist(X[:, 4], bins = 50);"
   ]
  },
  {
   "cell_type": "code",
   "execution_count": 51,
   "metadata": {},
   "outputs": [
    {
     "data": {
      "text/plain": [
       "((13200, 11), (13200,))"
      ]
     },
     "execution_count": 51,
     "metadata": {},
     "output_type": "execute_result"
    }
   ],
   "source": [
    "# Check the shapes of our features and labels\n",
    "X.shape, y.shape"
   ]
  },
  {
   "cell_type": "code",
   "execution_count": 52,
   "metadata": {},
   "outputs": [
    {
     "name": "stdout",
     "output_type": "stream",
     "text": [
      "Values for one sample of X: [-1.2485753   0.68914042  0.6641973   1.74842507  3.45466198  3.42615069\n",
      " -3.73432749 -2.53698121 -1.30099237 -4.98496343 -0.37423963] and the same for y: 0\n",
      "Shapes for one sample of X: (11,) and the same for y: ()\n"
     ]
    }
   ],
   "source": [
    "# View the first example of features and labels\n",
    "X_sample = X[0]\n",
    "y_sample = y[0]\n",
    "print(f\"Values for one sample of X: {X_sample} and the same for y: {y_sample}\")\n",
    "print(f\"Shapes for one sample of X: {X_sample.shape} and the same for y: {y_sample.shape}\")"
   ]
  },
  {
   "cell_type": "code",
   "execution_count": 53,
   "metadata": {},
   "outputs": [
    {
     "data": {
      "text/plain": [
       "(tensor([[-1.2486,  0.6891,  0.6642,  1.7484,  3.4547,  3.4262, -3.7343, -2.5370,\n",
       "          -1.3010, -4.9850, -0.3742],\n",
       "         [-0.7344,  1.2001,  1.0121, -2.7319,  2.4207,  1.8936, -1.6242,  0.8716,\n",
       "           0.0900,  2.6438,  0.0590],\n",
       "         [-0.1206,  0.3837,  1.1672, -1.9661,  0.2644, -0.0786,  0.5958,  0.1899,\n",
       "          -0.0479,  0.6308, -0.1453],\n",
       "         [-0.3154,  0.0444, -0.0829,  0.5616,  0.6995,  0.9898, -0.6728, -0.9459,\n",
       "          -0.6340, -1.9033,  0.0536],\n",
       "         [ 0.3422,  0.0734,  1.1570, -0.3900, -1.2137, -0.3177,  1.6799, -0.5209,\n",
       "          -0.6003, -0.5047, -0.2001]]),\n",
       " tensor([0., 1., 0., 1., 0.]))"
      ]
     },
     "execution_count": 53,
     "metadata": {},
     "output_type": "execute_result"
    }
   ],
   "source": [
    "# Turn data into tensors\n",
    "# Otherwise this causes issues with computations later on\n",
    "import torch\n",
    "X = torch.from_numpy(X).type(torch.float)\n",
    "y = torch.from_numpy(y).type(torch.float)\n",
    "\n",
    "# View the first five samples\n",
    "X[:5], y[:5]"
   ]
  },
  {
   "cell_type": "code",
   "execution_count": 54,
   "metadata": {},
   "outputs": [
    {
     "data": {
      "text/plain": [
       "(10560, 2640, 10560, 2640)"
      ]
     },
     "execution_count": 54,
     "metadata": {},
     "output_type": "execute_result"
    }
   ],
   "source": [
    "# Split data into train and test sets - chronological data so this is a bit meh but let's go with it for now...\n",
    "from sklearn.model_selection import train_test_split\n",
    "\n",
    "X_train, X_test, y_train, y_test = train_test_split(X, \n",
    "                                                    y, \n",
    "                                                    test_size=0.2, # 20% test, 80% train\n",
    "                                                    random_state=42) # make the random split reproducible\n",
    "\n",
    "len(X_train), len(X_test), len(y_train), len(y_test)"
   ]
  },
  {
   "cell_type": "code",
   "execution_count": 55,
   "metadata": {},
   "outputs": [
    {
     "data": {
      "text/plain": [
       "'cpu'"
      ]
     },
     "execution_count": 55,
     "metadata": {},
     "output_type": "execute_result"
    }
   ],
   "source": [
    "# Standard PyTorch imports\n",
    "import torch\n",
    "from torch import nn\n",
    "\n",
    "# Make device agnostic code\n",
    "device = \"cuda\" if torch.cuda.is_available() else \"cpu\"\n",
    "device"
   ]
  },
  {
   "cell_type": "code",
   "execution_count": 56,
   "metadata": {},
   "outputs": [
    {
     "data": {
      "text/plain": [
       "11"
      ]
     },
     "execution_count": 56,
     "metadata": {},
     "output_type": "execute_result"
    }
   ],
   "source": [
    "X.shape[1]"
   ]
  },
  {
   "cell_type": "code",
   "execution_count": 57,
   "metadata": {},
   "outputs": [
    {
     "data": {
      "text/plain": [
       "TennisModel1(\n",
       "  (layer_1): Linear(in_features=11, out_features=5, bias=True)\n",
       "  (layer_2): Linear(in_features=5, out_features=1, bias=True)\n",
       ")"
      ]
     },
     "execution_count": 57,
     "metadata": {},
     "output_type": "execute_result"
    }
   ],
   "source": [
    "# 1. Construct a model class that subclasses nn.Module\n",
    "class TennisModel1(nn.Module):\n",
    "    def __init__(self):\n",
    "        super().__init__()\n",
    "        # 2. Create 2 nn.Linear layers capable of handling X and y input and output shapes\n",
    "        self.layer_1 = nn.Linear(in_features=X.shape[1], out_features=5) # takes features (X), produces 5 features\n",
    "        self.layer_2 = nn.Linear(in_features=5, out_features=1) # takes in 5 features, produces 1 feature (y)\n",
    "    \n",
    "    # 3. Define a forward method containing the forward pass computation\n",
    "    def forward(self, x):\n",
    "        # Return the output of layer_2, a single feature, the same shape as y\n",
    "        return self.layer_2(self.layer_1(x)) # computation goes through layer_1 first then the output of layer_1 goes through layer_2\n",
    "\n",
    "# 4. Create an instance of the model and send it to target device\n",
    "model_0 = TennisModel1().to(device)\n",
    "model_0"
   ]
  },
  {
   "cell_type": "code",
   "execution_count": 58,
   "metadata": {},
   "outputs": [
    {
     "data": {
      "text/plain": [
       "Sequential(\n",
       "  (0): Linear(in_features=11, out_features=5, bias=True)\n",
       "  (1): Linear(in_features=5, out_features=1, bias=True)\n",
       ")"
      ]
     },
     "execution_count": 58,
     "metadata": {},
     "output_type": "execute_result"
    }
   ],
   "source": [
    "# Replicate CircleModelV0 with nn.Sequential\n",
    "model_0 = nn.Sequential(\n",
    "    nn.Linear(in_features=X.shape[1], out_features=5),\n",
    "    nn.Linear(in_features=5, out_features=1)\n",
    ").to(device)\n",
    "\n",
    "model_0\n"
   ]
  },
  {
   "cell_type": "code",
   "execution_count": 59,
   "metadata": {},
   "outputs": [
    {
     "name": "stdout",
     "output_type": "stream",
     "text": [
      "Length of predictions: 2640, Shape: torch.Size([2640, 1])\n",
      "Length of test samples: 2640, Shape: torch.Size([2640])\n",
      "\n",
      "First 10 predictions:\n",
      "tensor([[ 0.1558],\n",
      "        [-0.0051],\n",
      "        [ 0.0132],\n",
      "        [-0.0324],\n",
      "        [ 0.2144],\n",
      "        [ 0.0292],\n",
      "        [-0.0830],\n",
      "        [-0.0887],\n",
      "        [ 0.0466],\n",
      "        [-0.1855]], grad_fn=<SliceBackward0>)\n",
      "\n",
      "First 10 test labels:\n",
      "tensor([0., 0., 0., 0., 0., 1., 1., 0., 1., 1.])\n"
     ]
    }
   ],
   "source": [
    "# Make predictions with the model\n",
    "untrained_preds = model_0(X_test.to(device))\n",
    "print(f\"Length of predictions: {len(untrained_preds)}, Shape: {untrained_preds.shape}\")\n",
    "print(f\"Length of test samples: {len(y_test)}, Shape: {y_test.shape}\")\n",
    "print(f\"\\nFirst 10 predictions:\\n{untrained_preds[:10]}\")\n",
    "print(f\"\\nFirst 10 test labels:\\n{y_test[:10]}\")"
   ]
  },
  {
   "cell_type": "code",
   "execution_count": 60,
   "metadata": {},
   "outputs": [],
   "source": [
    "# Create a loss function\n",
    "# loss_fn = nn.BCELoss() # BCELoss = no sigmoid built-in\n",
    "loss_fn = nn.BCEWithLogitsLoss() # BCEWithLogitsLoss = sigmoid built-in\n",
    "\n",
    "# Create an optimizer\n",
    "optimizer = torch.optim.SGD(params=model_0.parameters(), \n",
    "                            lr=0.1)"
   ]
  },
  {
   "cell_type": "code",
   "execution_count": 61,
   "metadata": {},
   "outputs": [],
   "source": [
    "# Calculate accuracy (a classification metric)\n",
    "def accuracy_fn(y_true, y_pred):\n",
    "    correct = torch.eq(y_true, y_pred).sum().item() # torch.eq() calculates where two tensors are equal\n",
    "    acc = (correct / len(y_pred)) * 100 \n",
    "    return acc"
   ]
  },
  {
   "cell_type": "code",
   "execution_count": 62,
   "metadata": {},
   "outputs": [
    {
     "data": {
      "text/plain": [
       "tensor([[ 0.1558],\n",
       "        [-0.0051],\n",
       "        [ 0.0132],\n",
       "        [-0.0324],\n",
       "        [ 0.2144]], grad_fn=<SliceBackward0>)"
      ]
     },
     "execution_count": 62,
     "metadata": {},
     "output_type": "execute_result"
    }
   ],
   "source": [
    "# View the frist 5 outputs of the forward pass on the test data\n",
    "y_logits = model_0(X_test.to(device))[:5]\n",
    "y_logits"
   ]
  },
  {
   "cell_type": "code",
   "execution_count": 63,
   "metadata": {},
   "outputs": [
    {
     "data": {
      "text/plain": [
       "tensor([[0.5389],\n",
       "        [0.4987],\n",
       "        [0.5033],\n",
       "        [0.4919],\n",
       "        [0.5534]], grad_fn=<SigmoidBackward0>)"
      ]
     },
     "execution_count": 63,
     "metadata": {},
     "output_type": "execute_result"
    }
   ],
   "source": [
    "# Use sigmoid on model logits\n",
    "y_pred_probs = torch.sigmoid(y_logits)\n",
    "y_pred_probs"
   ]
  },
  {
   "cell_type": "code",
   "execution_count": 64,
   "metadata": {},
   "outputs": [
    {
     "name": "stdout",
     "output_type": "stream",
     "text": [
      "tensor([True, True, True, True, True])\n"
     ]
    },
    {
     "data": {
      "text/plain": [
       "tensor([1., 0., 1., 0., 1.], grad_fn=<SqueezeBackward0>)"
      ]
     },
     "execution_count": 64,
     "metadata": {},
     "output_type": "execute_result"
    }
   ],
   "source": [
    "# Find the predicted labels (round the prediction probabilities)\n",
    "y_preds = torch.round(y_pred_probs)\n",
    "\n",
    "# In full\n",
    "y_pred_labels = torch.round(torch.sigmoid(model_0(X_test.to(device))[:5]))\n",
    "\n",
    "# Check for equality\n",
    "print(torch.eq(y_preds.squeeze(), y_pred_labels.squeeze()))\n",
    "\n",
    "# Get rid of extra dimension\n",
    "y_preds.squeeze()"
   ]
  },
  {
   "cell_type": "code",
   "execution_count": 65,
   "metadata": {},
   "outputs": [
    {
     "name": "stdout",
     "output_type": "stream",
     "text": [
      "Epoch: 0 | Loss: 0.67432, Accuracy: 60.14% | Test loss: 0.67171, Test acc: 59.58%"
     ]
    },
    {
     "name": "stdout",
     "output_type": "stream",
     "text": [
      "\n",
      "Epoch: 10 | Loss: 0.64513, Accuracy: 67.52% | Test loss: 0.64210, Test acc: 68.56%\n",
      "Epoch: 20 | Loss: 0.62115, Accuracy: 70.01% | Test loss: 0.61807, Test acc: 71.89%\n",
      "Epoch: 30 | Loss: 0.60041, Accuracy: 71.37% | Test loss: 0.59790, Test acc: 73.33%\n",
      "Epoch: 40 | Loss: 0.58344, Accuracy: 72.28% | Test loss: 0.58192, Test acc: 73.98%\n",
      "Epoch: 50 | Loss: 0.57052, Accuracy: 73.00% | Test loss: 0.57017, Test acc: 74.32%\n",
      "Epoch: 60 | Loss: 0.56124, Accuracy: 73.31% | Test loss: 0.56205, Test acc: 74.39%\n",
      "Epoch: 70 | Loss: 0.55485, Accuracy: 73.52% | Test loss: 0.55671, Test acc: 74.43%\n",
      "Epoch: 80 | Loss: 0.55057, Accuracy: 73.49% | Test loss: 0.55333, Test acc: 74.39%\n",
      "Epoch: 90 | Loss: 0.54775, Accuracy: 73.62% | Test loss: 0.55128, Test acc: 74.28%\n"
     ]
    }
   ],
   "source": [
    "torch.manual_seed(42)\n",
    "\n",
    "# Set the number of epochs\n",
    "epochs = 100\n",
    "\n",
    "# Put data to target device\n",
    "X_train, y_train = X_train.to(device), y_train.to(device)\n",
    "X_test, y_test = X_test.to(device), y_test.to(device)\n",
    "\n",
    "# Build training and evaluation loop\n",
    "for epoch in range(epochs):\n",
    "    ### Training\n",
    "    model_0.train()\n",
    "\n",
    "    # 1. Forward pass (model outputs raw logits)\n",
    "    y_logits = model_0(X_train).squeeze() # squeeze to remove extra `1` dimensions, this won't work unless model and data are on same device \n",
    "    y_pred = torch.round(torch.sigmoid(y_logits)) # turn logits -> pred probs -> pred labls\n",
    "  \n",
    "    # 2. Calculate loss/accuracy\n",
    "    # loss = loss_fn(torch.sigmoid(y_logits), # Using nn.BCELoss you need torch.sigmoid()\n",
    "    #                y_train) \n",
    "    loss = loss_fn(y_logits, # Using nn.BCEWithLogitsLoss works with raw logits\n",
    "                   y_train) \n",
    "    acc = accuracy_fn(y_true=y_train, \n",
    "                      y_pred=y_pred) \n",
    "\n",
    "    # 3. Optimizer zero grad\n",
    "    optimizer.zero_grad()\n",
    "\n",
    "    # 4. Loss backwards\n",
    "    loss.backward()\n",
    "\n",
    "    # 5. Optimizer step\n",
    "    optimizer.step()\n",
    "\n",
    "    ### Testing\n",
    "    model_0.eval()\n",
    "    with torch.inference_mode():\n",
    "        # 1. Forward pass\n",
    "        test_logits = model_0(X_test).squeeze() \n",
    "        test_pred = torch.round(torch.sigmoid(test_logits))\n",
    "        # 2. Caculate loss/accuracy\n",
    "        test_loss = loss_fn(test_logits,\n",
    "                            y_test)\n",
    "        test_acc = accuracy_fn(y_true=y_test,\n",
    "                               y_pred=test_pred)\n",
    "\n",
    "    # Print out what's happening every 10 epochs\n",
    "    if epoch % 10 == 0:\n",
    "        print(f\"Epoch: {epoch} | Loss: {loss:.5f}, Accuracy: {acc:.2f}% | Test loss: {test_loss:.5f}, Test acc: {test_acc:.2f}%\")"
   ]
  },
  {
   "cell_type": "code",
   "execution_count": 66,
   "metadata": {},
   "outputs": [
    {
     "data": {
      "text/plain": [
       "TennisModel2(\n",
       "  (layer_1): Linear(in_features=11, out_features=10, bias=True)\n",
       "  (layer_2): Linear(in_features=10, out_features=10, bias=True)\n",
       "  (layer_3): Linear(in_features=10, out_features=1, bias=True)\n",
       ")"
      ]
     },
     "execution_count": 66,
     "metadata": {},
     "output_type": "execute_result"
    }
   ],
   "source": [
    "class TennisModel2(nn.Module):\n",
    "    def __init__(self):\n",
    "        super().__init__()\n",
    "        self.layer_1 = nn.Linear(in_features=X.shape[1], out_features=10)\n",
    "        self.layer_2 = nn.Linear(in_features=10, out_features=10) # extra layer\n",
    "        self.layer_3 = nn.Linear(in_features=10, out_features=1)\n",
    "        \n",
    "    def forward(self, x): # note: always make sure forward is spelt correctly!\n",
    "        # Creating a model like this is the same as below, though below\n",
    "        # generally benefits from speedups where possible.\n",
    "        # z = self.layer_1(x)\n",
    "        # z = self.layer_2(z)\n",
    "        # z = self.layer_3(z)\n",
    "        # return z\n",
    "        return self.layer_3(self.layer_2(self.layer_1(x)))\n",
    "\n",
    "model_1 = TennisModel2().to(device)\n",
    "model_1"
   ]
  },
  {
   "cell_type": "code",
   "execution_count": 67,
   "metadata": {},
   "outputs": [],
   "source": [
    "# loss_fn = nn.BCELoss() # Requires sigmoid on input\n",
    "loss_fn = nn.BCEWithLogitsLoss() # Does not require sigmoid on input\n",
    "optimizer = torch.optim.SGD(model_1.parameters(), lr=0.1)"
   ]
  },
  {
   "cell_type": "code",
   "execution_count": 68,
   "metadata": {},
   "outputs": [
    {
     "name": "stdout",
     "output_type": "stream",
     "text": [
      "Epoch: 0 | Loss: 0.70875, Accuracy: 50.65% | Test loss: 0.70463, Test acc: 50.53%\n",
      "Epoch: 100 | Loss: 0.54862, Accuracy: 73.38% | Test loss: 0.55137, Test acc: 74.17%\n",
      "Epoch: 200 | Loss: 0.54285, Accuracy: 73.58% | Test loss: 0.54936, Test acc: 74.24%\n",
      "Epoch: 300 | Loss: 0.54264, Accuracy: 73.64% | Test loss: 0.54949, Test acc: 74.05%\n",
      "Epoch: 400 | Loss: 0.54255, Accuracy: 73.63% | Test loss: 0.54951, Test acc: 74.13%\n",
      "Epoch: 500 | Loss: 0.54250, Accuracy: 73.65% | Test loss: 0.54954, Test acc: 73.98%\n",
      "Epoch: 600 | Loss: 0.54247, Accuracy: 73.65% | Test loss: 0.54956, Test acc: 73.90%\n",
      "Epoch: 700 | Loss: 0.54246, Accuracy: 73.66% | Test loss: 0.54958, Test acc: 73.94%\n",
      "Epoch: 800 | Loss: 0.54245, Accuracy: 73.66% | Test loss: 0.54959, Test acc: 73.94%\n",
      "Epoch: 900 | Loss: 0.54244, Accuracy: 73.65% | Test loss: 0.54960, Test acc: 73.83%\n"
     ]
    }
   ],
   "source": [
    "torch.manual_seed(42)\n",
    "\n",
    "epochs = 1000 # Train for longer\n",
    "\n",
    "# Put data to target device\n",
    "X_train, y_train = X_train.to(device), y_train.to(device)\n",
    "X_test, y_test = X_test.to(device), y_test.to(device)\n",
    "\n",
    "for epoch in range(epochs):\n",
    "    ### Training\n",
    "    # 1. Forward pass\n",
    "    y_logits = model_1(X_train).squeeze()\n",
    "    y_pred = torch.round(torch.sigmoid(y_logits)) # logits -> prediction probabilities -> prediction labels\n",
    "\n",
    "    # 2. Calculate loss/accuracy\n",
    "    loss = loss_fn(y_logits, y_train)\n",
    "    acc = accuracy_fn(y_true=y_train, \n",
    "                      y_pred=y_pred)\n",
    "\n",
    "    # 3. Optimizer zero grad\n",
    "    optimizer.zero_grad()\n",
    "\n",
    "    # 4. Loss backwards\n",
    "    loss.backward()\n",
    "\n",
    "    # 5. Optimizer step\n",
    "    optimizer.step()\n",
    "\n",
    "    ### Testing\n",
    "    model_1.eval()\n",
    "    with torch.inference_mode():\n",
    "        # 1. Forward pass\n",
    "        test_logits = model_1(X_test).squeeze() \n",
    "        test_pred = torch.round(torch.sigmoid(test_logits))\n",
    "        # 2. Caculate loss/accuracy\n",
    "        test_loss = loss_fn(test_logits,\n",
    "                            y_test)\n",
    "        test_acc = accuracy_fn(y_true=y_test,\n",
    "                               y_pred=test_pred)\n",
    "\n",
    "    # Print out what's happening every 10 epochs\n",
    "    if epoch % 100 == 0:\n",
    "        print(f\"Epoch: {epoch} | Loss: {loss:.5f}, Accuracy: {acc:.2f}% | Test loss: {test_loss:.5f}, Test acc: {test_acc:.2f}%\")"
   ]
  },
  {
   "cell_type": "code",
   "execution_count": 69,
   "metadata": {},
   "outputs": [
    {
     "name": "stdout",
     "output_type": "stream",
     "text": [
      "TennisModel3(\n",
      "  (layer_1): Linear(in_features=11, out_features=20, bias=True)\n",
      "  (layer_2): Linear(in_features=20, out_features=30, bias=True)\n",
      "  (layer_3): Linear(in_features=30, out_features=1, bias=True)\n",
      "  (relu): ReLU()\n",
      ")\n"
     ]
    }
   ],
   "source": [
    "# Build model with non-linear activation function\n",
    "from torch import nn\n",
    "class TennisModel3(nn.Module):\n",
    "    def __init__(self):\n",
    "        super().__init__()\n",
    "        self.layer_1 = nn.Linear(in_features=X.shape[1], out_features=20)\n",
    "        self.layer_2 = nn.Linear(in_features=20, out_features=30)\n",
    "        self.layer_3 = nn.Linear(in_features=30, out_features=1)\n",
    "        self.relu = nn.ReLU() # <- add in ReLU activation function\n",
    "        # Can also put sigmoid in the model \n",
    "        # This would mean you don't need to use it on the predictions\n",
    "        # self.sigmoid = nn.Sigmoid()\n",
    "\n",
    "    def forward(self, x):\n",
    "      # Intersperse the ReLU activation function between layers\n",
    "       return self.layer_3(self.relu(self.layer_2(self.relu(self.layer_1(x)))))\n",
    "\n",
    "model_3 = TennisModel3().to(device)\n",
    "print(model_3)"
   ]
  },
  {
   "cell_type": "code",
   "execution_count": 70,
   "metadata": {},
   "outputs": [],
   "source": [
    "# Setup loss and optimizer \n",
    "loss_fn = nn.BCEWithLogitsLoss()\n",
    "optimizer = torch.optim.SGD(model_3.parameters(), lr=0.1)"
   ]
  },
  {
   "cell_type": "code",
   "execution_count": 71,
   "metadata": {},
   "outputs": [
    {
     "name": "stdout",
     "output_type": "stream",
     "text": [
      "Epoch: 0 | Loss: 0.69627, Accuracy: 50.67% | Test Loss: 0.69737, Test Accuracy: 50.11%\n",
      "Epoch: 100 | Loss: 0.65691, Accuracy: 67.29% | Test Loss: 0.65599, Test Accuracy: 67.42%\n",
      "Epoch: 200 | Loss: 0.56461, Accuracy: 71.46% | Test Loss: 0.56566, Test Accuracy: 72.42%\n",
      "Epoch: 300 | Loss: 0.54558, Accuracy: 73.10% | Test Loss: 0.54974, Test Accuracy: 73.37%\n",
      "Epoch: 400 | Loss: 0.54230, Accuracy: 73.43% | Test Loss: 0.54750, Test Accuracy: 73.41%\n",
      "Epoch: 500 | Loss: 0.54067, Accuracy: 73.43% | Test Loss: 0.54607, Test Accuracy: 73.48%\n",
      "Epoch: 600 | Loss: 0.53974, Accuracy: 73.49% | Test Loss: 0.54521, Test Accuracy: 73.52%\n",
      "Epoch: 700 | Loss: 0.53903, Accuracy: 73.61% | Test Loss: 0.54453, Test Accuracy: 73.71%\n",
      "Epoch: 800 | Loss: 0.53846, Accuracy: 73.70% | Test Loss: 0.54424, Test Accuracy: 73.98%\n",
      "Epoch: 900 | Loss: 0.53803, Accuracy: 73.80% | Test Loss: 0.54410, Test Accuracy: 74.05%\n"
     ]
    }
   ],
   "source": [
    "# Fit the model\n",
    "torch.manual_seed(42)\n",
    "epochs = 1000\n",
    "\n",
    "# Put all data on target device\n",
    "X_train, y_train = X_train.to(device), y_train.to(device)\n",
    "X_test, y_test = X_test.to(device), y_test.to(device)\n",
    "\n",
    "for epoch in range(epochs):\n",
    "    # 1. Forward pass\n",
    "    y_logits = model_3(X_train).squeeze()\n",
    "    y_pred = torch.round(torch.sigmoid(y_logits)) # logits -> prediction probabilities -> prediction labels\n",
    "    \n",
    "    # 2. Calculate loss and accuracy\n",
    "    loss = loss_fn(y_logits, y_train) # BCEWithLogitsLoss calculates loss using logits\n",
    "    acc = accuracy_fn(y_true=y_train, \n",
    "                      y_pred=y_pred)\n",
    "    \n",
    "    # 3. Optimizer zero grad\n",
    "    optimizer.zero_grad()\n",
    "\n",
    "    # 4. Loss backward\n",
    "    loss.backward()\n",
    "\n",
    "    # 5. Optimizer step\n",
    "    optimizer.step()\n",
    "\n",
    "    ### Testing\n",
    "    model_3.eval()\n",
    "    with torch.inference_mode():\n",
    "      # 1. Forward pass\n",
    "      test_logits = model_3(X_test).squeeze()\n",
    "      test_pred = torch.round(torch.sigmoid(test_logits)) # logits -> prediction probabilities -> prediction labels\n",
    "      # 2. Calculate loss and accuracy\n",
    "      test_loss = loss_fn(test_logits, y_test)\n",
    "      test_acc = accuracy_fn(y_true=y_test,\n",
    "                             y_pred=test_pred)\n",
    "\n",
    "    # Print out what's happening\n",
    "    if epoch % 100 == 0:\n",
    "        print(f\"Epoch: {epoch} | Loss: {loss:.5f}, Accuracy: {acc:.2f}% | Test Loss: {test_loss:.5f}, Test Accuracy: {test_acc:.2f}%\")"
   ]
  },
  {
   "cell_type": "code",
   "execution_count": 1,
   "metadata": {},
   "outputs": [],
   "source": [
    "import captum"
   ]
  },
  {
   "cell_type": "code",
   "execution_count": 3,
   "metadata": {},
   "outputs": [],
   "source": [
    "from captum.attr import IntegratedGradients\n",
    "from captum.attr import LayerConductance\n",
    "from captum.attr import NeuronConductance"
   ]
  },
  {
   "cell_type": "code",
   "execution_count": 74,
   "metadata": {},
   "outputs": [
    {
     "ename": "NameError",
     "evalue": "name 'NoiseTunnel' is not defined",
     "output_type": "error",
     "traceback": [
      "\u001b[1;31m---------------------------------------------------------------------------\u001b[0m",
      "\u001b[1;31mNameError\u001b[0m                                 Traceback (most recent call last)",
      "Cell \u001b[1;32mIn[74], line 2\u001b[0m\n\u001b[0;32m      1\u001b[0m ig \u001b[38;5;241m=\u001b[39m IntegratedGradients(model_3)\n\u001b[1;32m----> 2\u001b[0m ig_nt \u001b[38;5;241m=\u001b[39m \u001b[43mNoiseTunnel\u001b[49m(ig)\n\u001b[0;32m      3\u001b[0m dl \u001b[38;5;241m=\u001b[39m DeepLift(model_3)\n\u001b[0;32m      4\u001b[0m gs \u001b[38;5;241m=\u001b[39m GradientShap(model_3)\n",
      "\u001b[1;31mNameError\u001b[0m: name 'NoiseTunnel' is not defined"
     ]
    }
   ],
   "source": [
    "ig = IntegratedGradients(model_3)\n",
    "ig_nt = NoiseTunnel(ig)\n",
    "dl = DeepLift(model_3)\n",
    "gs = GradientShap(model_3)\n",
    "fa = FeatureAblation(model_3)\n",
    "\n",
    "ig_attr_test = ig.attribute(X_test, n_steps=50)\n",
    "ig_nt_attr_test = ig_nt.attribute(X_test)\n",
    "dl_attr_test = dl.attribute(X_test)\n",
    "gs_attr_test = gs.attribute(X_test, X_train)\n",
    "fa_attr_test = fa.attribute(X_test)"
   ]
  },
  {
   "cell_type": "code",
   "execution_count": null,
   "metadata": {},
   "outputs": [],
   "source": []
  }
 ],
 "metadata": {
  "kernelspec": {
   "display_name": ".venv",
   "language": "python",
   "name": "python3"
  },
  "language_info": {
   "codemirror_mode": {
    "name": "ipython",
    "version": 3
   },
   "file_extension": ".py",
   "mimetype": "text/x-python",
   "name": "python",
   "nbconvert_exporter": "python",
   "pygments_lexer": "ipython3",
   "version": "3.11.2"
  }
 },
 "nbformat": 4,
 "nbformat_minor": 2
}
